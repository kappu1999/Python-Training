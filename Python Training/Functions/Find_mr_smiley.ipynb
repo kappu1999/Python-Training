{
 "cells": [
  {
   "cell_type": "markdown",
   "metadata": {},
   "source": [
    "___\n",
    "\n",
    "<a href='https://consolelancer.com/'><img src='consolelancer.jpeg'/></a>\n",
    "___\n",
    "<center><em>Content Copyright by ConsoleLancer</em></center>"
   ]
  },
  {
   "cell_type": "markdown",
   "metadata": {},
   "source": [
    "# Guess_where_Mr.smile_lives_Game\n",
    "<b>MR Smiley is hiding in one of the below houses "
   ]
  },
  {
   "cell_type": "raw",
   "metadata": {},
   "source": [
    "  /\\\n",
    " /  \\\n",
    "/____\\ \n",
    "|    |\n",
    "|____| House 0\n",
    "\n",
    "  /\\\n",
    " /  \\\n",
    "/____\\ \n",
    "|    |\n",
    "|____| House 1\n",
    "\n",
    "  /\\\n",
    " /  \\\n",
    "/____\\ \n",
    "|    |\n",
    "|____| House 2\n"
   ]
  },
  {
   "cell_type": "markdown",
   "metadata": {},
   "source": [
    "<b>You Have to guess which house is Mr. Smiley in"
   ]
  },
  {
   "cell_type": "code",
   "execution_count": 1,
   "metadata": {},
   "outputs": [],
   "source": [
    "#import shuffle to shuffle the list\n",
    "from random import shuffle"
   ]
  },
  {
   "cell_type": "code",
   "execution_count": 2,
   "metadata": {},
   "outputs": [],
   "source": [
    "lst = [ \":(\" , \":)\" , \":(\"]"
   ]
  },
  {
   "cell_type": "code",
   "execution_count": 3,
   "metadata": {},
   "outputs": [],
   "source": [
    "#function to Shuffle the list\n",
    "def shuffle_lst(lst):\n",
    "    shuffle(lst)\n",
    "    return lst\n",
    "    "
   ]
  },
  {
   "cell_type": "code",
   "execution_count": 4,
   "metadata": {},
   "outputs": [
    {
     "data": {
      "text/plain": [
       "[':(', ':)', ':(']"
      ]
     },
     "execution_count": 4,
     "metadata": {},
     "output_type": "execute_result"
    }
   ],
   "source": [
    "shuffle_lst(lst)"
   ]
  },
  {
   "cell_type": "code",
   "execution_count": 5,
   "metadata": {},
   "outputs": [],
   "source": [
    "def check(lst,guess):\n",
    "    if guess >=0 and guess <3:\n",
    "        if lst[guess] == ':)':\n",
    "            print(\"Correct choice ,You Found MR. SMiley\"+ lst[guess])\n",
    "        else:\n",
    "            print(\"Incorrect Try Again : \"+lst[guess])\n",
    "            \n",
    "        print(lst)    \n",
    "    else:\n",
    "        print(\"Choice out of bound , There are only 3 houses\")\n",
    "                "
   ]
  },
  {
   "cell_type": "code",
   "execution_count": 6,
   "metadata": {},
   "outputs": [
    {
     "name": "stdout",
     "output_type": "stream",
     "text": [
      "Incorrect Try Again : :(\n",
      "[':(', ':)', ':(']\n"
     ]
    }
   ],
   "source": [
    "check(lst,2)"
   ]
  },
  {
   "cell_type": "code",
   "execution_count": 7,
   "metadata": {},
   "outputs": [
    {
     "name": "stdout",
     "output_type": "stream",
     "text": [
      "Incorrect Try Again : :(\n",
      "[':(', ':)', ':(']\n"
     ]
    }
   ],
   "source": [
    "check(lst,0)"
   ]
  },
  {
   "cell_type": "code",
   "execution_count": 11,
   "metadata": {},
   "outputs": [
    {
     "name": "stdout",
     "output_type": "stream",
     "text": [
      "Welcome TO MR. SMiley Finder\n",
      "HE is hiding in one of the three house 0 ,1, 2\n",
      "Detective Enter Your Choice : 1\n",
      "Incorrect Try Again : :(\n",
      "[':(', ':(', ':)']\n"
     ]
    }
   ],
   "source": [
    "lst = [ \":(\" , \":)\" , \":(\"]\n",
    "shuffle_lst(lst)\n",
    "\n",
    "print(\"Welcome TO MR. SMiley Finder\")\n",
    "print(\"HE is hiding in one of the three house 0 ,1, 2\")\n",
    "guess = int(input(\"Detective Enter Your Choice : \"))\n",
    "\n",
    "check(lst,guess)\n",
    "\n",
    "\n"
   ]
  },
  {
   "cell_type": "markdown",
   "metadata": {},
   "source": [
    "___\n",
    "\n",
    "<a href='https://consolelancer.com/'><img src='consolelancer.jpeg'/></a>\n",
    "___\n",
    "<center><em>Content Copyright by ConsoleLancer</em></center>"
   ]
  },
  {
   "cell_type": "code",
   "execution_count": null,
   "metadata": {},
   "outputs": [],
   "source": []
  }
 ],
 "metadata": {
  "kernelspec": {
   "display_name": "Python 3",
   "language": "python",
   "name": "python3"
  },
  "language_info": {
   "codemirror_mode": {
    "name": "ipython",
    "version": 3
   },
   "file_extension": ".py",
   "mimetype": "text/x-python",
   "name": "python",
   "nbconvert_exporter": "python",
   "pygments_lexer": "ipython3",
   "version": "3.7.4"
  }
 },
 "nbformat": 4,
 "nbformat_minor": 2
}
