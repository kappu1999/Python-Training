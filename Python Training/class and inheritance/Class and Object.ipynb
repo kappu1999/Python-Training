{
 "cells": [
  {
   "cell_type": "markdown",
   "metadata": {},
   "source": [
    "___\n",
    "\n",
    "<a href='https://consolelancer.com/'><img src='consolelancer.jpeg'/></a>\n",
    "___\n",
    "<center><em>Content Copyright by ConsoleLancer</em></center>"
   ]
  },
  {
   "cell_type": "markdown",
   "metadata": {},
   "source": [
    "Python is an object oriented programming language.\n",
    "\n",
    "Almost everything in Python is an object, with its properties and methods."
   ]
  },
  {
   "cell_type": "markdown",
   "metadata": {},
   "source": [
    "# Terminology of the terms we will go through in this session\n",
    "**Class −** A user-defined prototype for an object that defines a set of attributes that characterize any object of the class. The attributes are data members (class variables and instance variables) and methods, accessed via dot notation.\n",
    "\n",
    "**Class variable −** A variable that is shared by all instances of a class. Class variables are defined within a class but outside any of the class's methods. Class variables are not used as frequently as instance variables are.\n",
    "\n",
    "**Data member −** A class variable or instance variable that holds data associated with a class and its objects.\n",
    "\n",
    "**Function overloading −** The assignment of more than one behavior to a particular function. The operation performed varies by the types of objects or arguments involved.\n",
    "\n",
    "**Instance variable −** A variable that is defined inside a method and belongs only to the current instance of a class.\n",
    "\n",
    "**Inheritance −** The transfer of the characteristics of a class to other classes that are derived from it.\n",
    "\n",
    "**Instance −** An individual object of a certain class. An object obj that belongs to a class Circle, for example, is an instance of the class Circle.\n",
    "\n",
    "**Instantiation −** The creation of an instance of a class.\n",
    "\n",
    "**Method −** A special kind of function that is defined in a class definition.\n",
    "\n",
    "**Object −** A unique instance of a data structure that's defined by its class. An object comprises both data members (class variables and instance variables) and methods.\n",
    "\n",
    "**Operator overloading −** The assignment of more than one function to a particular operator."
   ]
  },
  {
   "cell_type": "markdown",
   "metadata": {},
   "source": [
    "# Class and Object"
   ]
  },
  {
   "cell_type": "markdown",
   "metadata": {},
   "source": [
    "A class is a user-defined blueprint or prototype from which objects are created. Classes provide a means of bundling data and functionality together. Creating a new class creates a new type of object, allowing new instances of that type to be made. Each class instance can have attributes attached to it for maintaining its state. Class instances can also have methods (defined by its class) for modifying its state.\n",
    "\n",
    "To understand the need for creating a class let’s consider an example, let’s say you wanted to track the number of dogs which may have different attributes like breed, age. If a list is used, the first element could be the dog’s breed while the second element could represent its age. Let’s suppose there are 100 different dogs, then how would you know which element is supposed to be which? What if you wanted to add other properties to these dogs? This lacks organization and it’s the exact need for classes.\n",
    "\n",
    "Class creates a user-defined data structure, which holds its own data members and member functions, which can be accessed and used by creating an instance of that class. A class is like a blueprint for an object.\n",
    "\n",
    "Some points on Python class:\n",
    "\n",
    "Classes are created by keyword class.\n",
    "Attributes are the variables that belong to class.\n",
    "Attributes are always public and can be accessed using dot (.) operator. Eg.: Myclass.Myattribute"
   ]
  },
  {
   "cell_type": "code",
   "execution_count": 2,
   "metadata": {},
   "outputs": [],
   "source": [
    "#some basic python object\n",
    "n= 4\n",
    "lst = [2,4,5]\n",
    "name = \"Paul\""
   ]
  },
  {
   "cell_type": "markdown",
   "metadata": {},
   "source": [
    "**Remember EveryThing in Python is a Object**"
   ]
  },
  {
   "cell_type": "code",
   "execution_count": 12,
   "metadata": {},
   "outputs": [
    {
     "name": "stdout",
     "output_type": "stream",
     "text": [
      "<class 'int'>\n"
     ]
    }
   ],
   "source": [
    "print(type(n))"
   ]
  },
  {
   "cell_type": "code",
   "execution_count": 13,
   "metadata": {},
   "outputs": [
    {
     "name": "stdout",
     "output_type": "stream",
     "text": [
      "<class 'list'>\n"
     ]
    }
   ],
   "source": [
    "print(type(lst))"
   ]
  },
  {
   "cell_type": "code",
   "execution_count": 14,
   "metadata": {},
   "outputs": [
    {
     "name": "stdout",
     "output_type": "stream",
     "text": [
      "<class 'str'>\n"
     ]
    }
   ],
   "source": [
    "print(type(name))"
   ]
  },
  {
   "cell_type": "markdown",
   "metadata": {},
   "source": [
    "**Class**\n",
    "\n",
    "User defined objects are created using the class keyword. The class is a blueprint that defines the nature of a future object. From classes we can construct instances. An instance is a specific object created from a particular class. For example, above we created the object lst which was an instance of a list object.\n",
    "\n",
    "Let see how we can use class:"
   ]
  },
  {
   "cell_type": "markdown",
   "metadata": {},
   "source": [
    "**Class Definition Syntax:**\n",
    "\n",
    "class ClassName:\n",
    "    # Statement-1\n",
    "    .\n",
    "    .\n",
    "    .\n",
    "    # Statement-N"
   ]
  },
  {
   "cell_type": "code",
   "execution_count": 15,
   "metadata": {},
   "outputs": [
    {
     "name": "stdout",
     "output_type": "stream",
     "text": [
      "<class '__main__.Sample'>\n"
     ]
    }
   ],
   "source": [
    "# Create a new object type called Sample\n",
    "class Sample:\n",
    "    pass\n",
    "\n",
    "# Instance/Object Creation of Sample\n",
    "x = Sample()\n",
    "\n",
    "print(type(x))"
   ]
  },
  {
   "cell_type": "code",
   "execution_count": 16,
   "metadata": {},
   "outputs": [],
   "source": [
    "#Example 1\n",
    "class Dog:\n",
    "    def __init__(self,breed):\n",
    "        self.breed = breed\n",
    "        \n",
    "sam = Dog(breed='Lab')\n",
    "frank = Dog(breed='Huskie')"
   ]
  },
  {
   "cell_type": "code",
   "execution_count": 17,
   "metadata": {},
   "outputs": [
    {
     "data": {
      "text/plain": [
       "'Lab'"
      ]
     },
     "execution_count": 17,
     "metadata": {},
     "output_type": "execute_result"
    }
   ],
   "source": [
    "sam.breed"
   ]
  },
  {
   "cell_type": "code",
   "execution_count": 18,
   "metadata": {},
   "outputs": [
    {
     "data": {
      "text/plain": [
       "'Huskie'"
      ]
     },
     "execution_count": 18,
     "metadata": {},
     "output_type": "execute_result"
    }
   ],
   "source": [
    "frank.breed"
   ]
  },
  {
   "cell_type": "markdown",
   "metadata": {},
   "source": [
    "Lets break down what we have above.The special method\n",
    "\n",
    "__init__() \n",
    "is called automatically right after the object has been created:\n",
    "\n",
    "def __init__(self, breed):\n",
    "Each attribute in a class definition begins with a reference to the instance object. It is by convention named self. The breed is the argument. The value is passed during the class instantiation.\n",
    "\n",
    " self.breed = breed"
   ]
  },
  {
   "cell_type": "markdown",
   "metadata": {},
   "source": [
    "The examples above are classes and objects in their simplest form, and are not really useful in real life applications.\n",
    "\n",
    "To understand the meaning of classes we have to understand the built-in __init__() function.\n",
    "\n",
    "All classes have a function called __init__(), which is always executed when the class is being initiated.\n",
    "\n",
    "Use the __init__() function to assign values to object properties, or other operations that are necessary to do when the object is being created:"
   ]
  },
  {
   "cell_type": "code",
   "execution_count": 19,
   "metadata": {},
   "outputs": [
    {
     "name": "stdout",
     "output_type": "stream",
     "text": [
      "John\n",
      "36\n"
     ]
    }
   ],
   "source": [
    "class Person:\n",
    "  def __init__(self, name, age):\n",
    "    self.name = name\n",
    "    self.age = age\n",
    "\n",
    "p1 = Person(\"John\", 36)\n",
    "\n",
    "print(p1.name)\n",
    "print(p1.age)"
   ]
  },
  {
   "cell_type": "markdown",
   "metadata": {},
   "source": [
    "he __init__() function is called automatically every time the class is being used to create a new object."
   ]
  },
  {
   "cell_type": "markdown",
   "metadata": {},
   "source": [
    "# self and init in detail\n",
    "**The self**\n",
    "\n",
    "Class methods must have an extra first parameter in method definition. We do not give a value for this parameter when we call the method, Python provides it.\n",
    "If we have a method which takes no arguments, then we still have to have one argument.\n",
    "This is similar to this pointer in C++ and this reference in Java.\n",
    "When we call a method of this object as myobject.method(arg1, arg2), this is automatically converted by Python into MyClass.method(myobject, arg1, arg2) – this is all the special self is about."
   ]
  },
  {
   "cell_type": "markdown",
   "metadata": {},
   "source": [
    "**__init__ method**\n",
    "\n",
    "The __init__ method is similar to constructors in C++ and Java. Constructors are used to initialize the object’s state. Like methods, a constructor also contains a collection of statements(i.e. instructions) that are executed at the time of Object creation. It is run as soon as an object of a class is instantiated. The method is useful to do any initialization you want to do with your object."
   ]
  },
  {
   "cell_type": "markdown",
   "metadata": {},
   "source": [
    "# Object Methods"
   ]
  },
  {
   "cell_type": "markdown",
   "metadata": {},
   "source": [
    "Objects can also contain methods. Methods in objects are functions that belong to the object.\n"
   ]
  },
  {
   "cell_type": "code",
   "execution_count": 52,
   "metadata": {},
   "outputs": [
    {
     "name": "stdout",
     "output_type": "stream",
     "text": [
      "Hello my name is Paul\n"
     ]
    }
   ],
   "source": [
    "#Example 1\n",
    "class Person:\n",
    "  def __init__(self, name, age):\n",
    "    self.name = name\n",
    "    self.age = age\n",
    "\n",
    "  def myfunc(self):\n",
    "    print(\"Hello my name is \" + self.name)\n",
    "\n",
    "p1 = Person(\"Paul\", 24)\n",
    "p1.myfunc()"
   ]
  },
  {
   "cell_type": "code",
   "execution_count": 28,
   "metadata": {},
   "outputs": [
    {
     "name": "stdout",
     "output_type": "stream",
     "text": [
      "Radius is:  1\n",
      "Area is:  3.14\n",
      "Circumference is:  6.28\n"
     ]
    }
   ],
   "source": [
    "#Example 2\n",
    "class Circle:\n",
    "    pi = 3.14\n",
    "\n",
    "    # Circle gets instantiated with a radius (default is 1)\n",
    "    def __init__(self, radius=1):\n",
    "        self.radius = radius \n",
    "        self.area = radius * radius * Circle.pi # to use class variable u have to use it via the classname\n",
    "\n",
    "    # Method for getting Circumference\n",
    "    def getCircumference(self):\n",
    "        return self.radius * self.pi * 2\n",
    "\n",
    "\n",
    "c = Circle()\n",
    "\n",
    "print('Radius is: ',c.radius)\n",
    "print('Area is: ',c.area)\n",
    "print('Circumference is: ',c.getCircumference())"
   ]
  },
  {
   "cell_type": "code",
   "execution_count": 34,
   "metadata": {},
   "outputs": [
    {
     "name": "stdout",
     "output_type": "stream",
     "text": [
      "Radius is:  4\n",
      "Area is:  50.24\n",
      "Circumference is:  25.12\n"
     ]
    }
   ],
   "source": [
    "c2 = Circle(radius = 4)\n",
    "print('Radius is: ',c2.radius)\n",
    "print('Area is: ',c2.area)\n",
    "print('Circumference is: ',c2.getCircumference())"
   ]
  },
  {
   "cell_type": "code",
   "execution_count": 53,
   "metadata": {},
   "outputs": [
    {
     "name": "stdout",
     "output_type": "stream",
     "text": [
      "Rodger details:\n",
      "Rodger is a dog\n",
      "Breed:  Pug\n",
      "Color:  brown\n",
      "\n",
      "Buzo details:\n",
      "Buzo is a dog\n",
      "Breed:  Bulldog\n",
      "Color:  black\n",
      "\n",
      "Accessing class variable using class name\n",
      "dog\n"
     ]
    }
   ],
   "source": [
    "#Example 3\n",
    "class Dog:         \n",
    "    animal = 'dog'                      \n",
    "    def __init__(self, breed, color):              \n",
    "        self.breed = breed \n",
    "        self.color = color             \n",
    "# Objects of Dog class  \n",
    "Rodger = Dog(\"Pug\", \"brown\")  \n",
    "Buzo = Dog(\"Bulldog\", \"black\")  \n",
    "  \n",
    "print('Rodger details:')    \n",
    "print('Rodger is a', Rodger.animal)  \n",
    "print('Breed: ', Rodger.breed) \n",
    "print('Color: ', Rodger.color) \n",
    "  \n",
    "print('\\nBuzo details:')    \n",
    "print('Buzo is a', Buzo.animal)  \n",
    "print('Breed: ', Buzo.breed) \n",
    "print('Color: ', Buzo.color) \n",
    "  \n",
    "# Class variables can be accessed using class  \n",
    "# name also  \n",
    "print(\"\\nAccessing class variable using class name\") \n",
    "print(Dog.animal)  "
   ]
  },
  {
   "cell_type": "code",
   "execution_count": 48,
   "metadata": {},
   "outputs": [],
   "source": [
    "#Example 4 \n",
    "class Customer(object):\n",
    "    \"\"\"A customer of ABC Bank with a checking account. Customers have the\n",
    "    following properties:\n",
    "\n",
    "    Attributes:\n",
    "        name: A string representing the customer's name.\n",
    "        balance: A float tracking the current balance of the customer's account.\n",
    "    \"\"\"\n",
    "\n",
    "    def __init__(self, name):\n",
    "        \"\"\"Return a Customer object whose name is *name*.\"\"\" \n",
    "        self.name = name\n",
    "\n",
    "    def set_balance(self, balance=0.0):\n",
    "        \"\"\"Set the customer's starting balance.\"\"\"\n",
    "        self.balance = balance\n",
    "\n",
    "    def withdraw(self, amount):\n",
    "        \"\"\"Return the balance remaining after withdrawing *amount*\n",
    "        dollars.\"\"\"\n",
    "        if amount > self.balance:\n",
    "            raise RuntimeError('Amount greater than available balance.')\n",
    "        self.balance -= amount\n",
    "        return self.balance\n",
    "\n",
    "    def deposit(self, amount):\n",
    "        \"\"\"Return the balance remaining after depositing *amount*\n",
    "        dollars.\"\"\"\n",
    "        self.balance += amount\n",
    "        return self.balance"
   ]
  },
  {
   "cell_type": "code",
   "execution_count": 55,
   "metadata": {},
   "outputs": [
    {
     "data": {
      "text/plain": [
       "800.0"
      ]
     },
     "execution_count": 55,
     "metadata": {},
     "output_type": "execute_result"
    }
   ],
   "source": [
    "emp1 = Customer(name = \"Paul\")\n",
    "emp1.set_balance(1000.00)\n",
    "emp1.withdraw(200)"
   ]
  },
  {
   "cell_type": "code",
   "execution_count": 50,
   "metadata": {},
   "outputs": [
    {
     "name": "stdout",
     "output_type": "stream",
     "text": [
      "Name :  Paul , Salary:  50000\n",
      "Name :  Murali , Salary:  23000\n",
      "Total Employee 2\n"
     ]
    }
   ],
   "source": [
    "#Example 5\n",
    "class Employee:\n",
    "   #'Common base class for all employees'\n",
    "   empCount = 0\n",
    "\n",
    "   def __init__(self, name, salary):\n",
    "      self.name = name\n",
    "      self.salary = salary\n",
    "      Employee.empCount += 1\n",
    "   \n",
    "   def displayCount(self):\n",
    "     print(\"Total Employee\", Employee.empCount)\n",
    "\n",
    "   def displayEmployee(self):\n",
    "      print(\"Name : \", self.name,  \", Salary: \", self.salary)\n",
    "\n",
    "\"This would create first object of Employee class\"\n",
    "emp1 = Employee(\"Paul\", 50000)\n",
    "\"This would create second object of Employee class\"\n",
    "emp2 = Employee(\"Murali\", 23000)\n",
    "emp1.displayEmployee()\n",
    "emp2.displayEmployee()\n",
    "print(\"Total Employee\", Employee.empCount)"
   ]
  },
  {
   "cell_type": "markdown",
   "metadata": {},
   "source": [
    "# Homework "
   ]
  },
  {
   "cell_type": "code",
   "execution_count": null,
   "metadata": {},
   "outputs": [],
   "source": [
    "#Create a class named MyClass:\n",
    "______ MyClass:\n",
    "  x = 5"
   ]
  },
  {
   "cell_type": "code",
   "execution_count": null,
   "metadata": {},
   "outputs": [],
   "source": [
    "#-----start here ----\n",
    "\n",
    "\n",
    "#-----end here ------"
   ]
  },
  {
   "cell_type": "code",
   "execution_count": null,
   "metadata": {},
   "outputs": [],
   "source": [
    "#Create an object of MyClass called p1:\n",
    "class MyClass:\n",
    "  x = 5\n",
    "\n",
    "___ = ____ \n"
   ]
  },
  {
   "cell_type": "code",
   "execution_count": null,
   "metadata": {},
   "outputs": [],
   "source": [
    "#-----start here ----\n",
    "\n",
    "\n",
    "#-----end here ------"
   ]
  },
  {
   "cell_type": "code",
   "execution_count": null,
   "metadata": {},
   "outputs": [],
   "source": [
    "# Use the p1 object to print the value of x:\n",
    "class MyClass:\n",
    "  x = 5\n",
    "\n",
    "p1 = MyClass()\n",
    "\n",
    "print(______)"
   ]
  },
  {
   "cell_type": "code",
   "execution_count": null,
   "metadata": {},
   "outputs": [],
   "source": [
    "#-----start here ----\n",
    "\n",
    "\n",
    "\n",
    "#-----end here ------"
   ]
  },
  {
   "cell_type": "code",
   "execution_count": null,
   "metadata": {},
   "outputs": [],
   "source": [
    "#What is the correct syntax to assign a \"init\" function to a class?\n",
    "class Person:\n",
    "  def _____(self, name, age):\n",
    "    self.name = name\n",
    "    self.age = age"
   ]
  },
  {
   "cell_type": "code",
   "execution_count": null,
   "metadata": {},
   "outputs": [],
   "source": [
    "#-----start here ----\n",
    "\n",
    "\n",
    "\n",
    "#-----end here ------"
   ]
  },
  {
   "cell_type": "markdown",
   "metadata": {},
   "source": [
    "**For further Reading and more Examples of Class and object follow the below Links**\n",
    "\n",
    "[W3 School ](https://www.w3schools.com/python/python_classes.asp)\n",
    "\n",
    "[GFG](https://www.geeksforgeeks.org/python-classes-and-objects/)\n",
    "\n",
    "[Tutorial Point](https://www.tutorialspoint.com/python/python_classes_objects.htm)\n",
    "\n",
    "[Jeff knupp Pst](https://jeffknupp.com/blog/2014/06/18/improve-your-python-python-classes-and-object-oriented-programming/)\n",
    "\n",
    "[Programiz.com](https://www.programiz.com/python-programming/class)"
   ]
  },
  {
   "cell_type": "markdown",
   "metadata": {},
   "source": [
    "___\n",
    "\n",
    "<a href='https://consolelancer.com/'><img src='consolelancer.jpeg'/></a>\n",
    "___\n",
    "<center><em>Content Copyright by ConsoleLancer</em></center>"
   ]
  }
 ],
 "metadata": {
  "kernelspec": {
   "display_name": "Python 3",
   "language": "python",
   "name": "python3"
  },
  "language_info": {
   "codemirror_mode": {
    "name": "ipython",
    "version": 3
   },
   "file_extension": ".py",
   "mimetype": "text/x-python",
   "name": "python",
   "nbconvert_exporter": "python",
   "pygments_lexer": "ipython3",
   "version": "3.7.4"
  }
 },
 "nbformat": 4,
 "nbformat_minor": 2
}
